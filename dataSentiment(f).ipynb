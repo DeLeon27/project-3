{
 "cells": [
  {
   "cell_type": "code",
   "execution_count": 20,
   "metadata": {},
   "outputs": [],
   "source": [
    "import pandas as pd\n",
    "import os\n",
    "import nltk\n",
    "from nltk.corpus import stopwords"
   ]
  },
  {
   "cell_type": "code",
   "execution_count": 17,
   "metadata": {},
   "outputs": [
    {
     "data": {
      "text/html": [
       "<div>\n",
       "<style scoped>\n",
       "    .dataframe tbody tr th:only-of-type {\n",
       "        vertical-align: middle;\n",
       "    }\n",
       "\n",
       "    .dataframe tbody tr th {\n",
       "        vertical-align: top;\n",
       "    }\n",
       "\n",
       "    .dataframe thead th {\n",
       "        text-align: right;\n",
       "    }\n",
       "</style>\n",
       "<table border=\"1\" class=\"dataframe\">\n",
       "  <thead>\n",
       "    <tr style=\"text-align: right;\">\n",
       "      <th></th>\n",
       "      <th>Sentiment</th>\n",
       "      <th>title</th>\n",
       "      <th>Unnamed: 2</th>\n",
       "      <th>time</th>\n",
       "    </tr>\n",
       "  </thead>\n",
       "  <tbody>\n",
       "    <tr>\n",
       "      <th>0</th>\n",
       "      <td>2</td>\n",
       "      <td>Assuming to be true that Putin is manipulating...</td>\n",
       "      <td>0</td>\n",
       "      <td>2016-12-30 23:21:38</td>\n",
       "    </tr>\n",
       "    <tr>\n",
       "      <th>1</th>\n",
       "      <td>0</td>\n",
       "      <td>My unpleasant experience from a Hillary suppor...</td>\n",
       "      <td>1</td>\n",
       "      <td>2016-12-30 16:47:07</td>\n",
       "    </tr>\n",
       "    <tr>\n",
       "      <th>2</th>\n",
       "      <td>2</td>\n",
       "      <td>Given the recent findings about Trump illegall...</td>\n",
       "      <td>2</td>\n",
       "      <td>2016-12-30 14:50:26</td>\n",
       "    </tr>\n",
       "    <tr>\n",
       "      <th>3</th>\n",
       "      <td>2</td>\n",
       "      <td>I'll be on Fox News Channel at 1pm (as a Dem S...</td>\n",
       "      <td>3</td>\n",
       "      <td>2016-12-30 14:27:26</td>\n",
       "    </tr>\n",
       "    <tr>\n",
       "      <th>4</th>\n",
       "      <td>2</td>\n",
       "      <td>Russia is unashamedly Authoritarian, Christian...</td>\n",
       "      <td>4</td>\n",
       "      <td>2016-12-30 14:14:00</td>\n",
       "    </tr>\n",
       "    <tr>\n",
       "      <th>...</th>\n",
       "      <td>...</td>\n",
       "      <td>...</td>\n",
       "      <td>...</td>\n",
       "      <td>...</td>\n",
       "    </tr>\n",
       "    <tr>\n",
       "      <th>1072</th>\n",
       "      <td>2</td>\n",
       "      <td>Antifa Activist Threatens To Kill President Tr...</td>\n",
       "      <td>593</td>\n",
       "      <td>2018-08-14 0:55:12</td>\n",
       "    </tr>\n",
       "    <tr>\n",
       "      <th>1073</th>\n",
       "      <td>0</td>\n",
       "      <td>Can somebody shed some light on the trump admi...</td>\n",
       "      <td>594</td>\n",
       "      <td>2018-08-13 14:06:22</td>\n",
       "    </tr>\n",
       "    <tr>\n",
       "      <th>1074</th>\n",
       "      <td>3</td>\n",
       "      <td>I guess the Ruskies did not help Trump enough,...</td>\n",
       "      <td>595</td>\n",
       "      <td>2018-08-13 13:37:41</td>\n",
       "    </tr>\n",
       "    <tr>\n",
       "      <th>1075</th>\n",
       "      <td>3</td>\n",
       "      <td>The Trump Administration pulled out of the JCP...</td>\n",
       "      <td>596</td>\n",
       "      <td>2018-08-13 13:18:34</td>\n",
       "    </tr>\n",
       "    <tr>\n",
       "      <th>1076</th>\n",
       "      <td>0</td>\n",
       "      <td>Will Affirmative Action End Soon Because of Tr...</td>\n",
       "      <td>597</td>\n",
       "      <td>2018-08-13 2:03:15</td>\n",
       "    </tr>\n",
       "  </tbody>\n",
       "</table>\n",
       "<p>1077 rows × 4 columns</p>\n",
       "</div>"
      ],
      "text/plain": [
       "      Sentiment                                              title  \\\n",
       "0             2  Assuming to be true that Putin is manipulating...   \n",
       "1             0  My unpleasant experience from a Hillary suppor...   \n",
       "2             2  Given the recent findings about Trump illegall...   \n",
       "3             2  I'll be on Fox News Channel at 1pm (as a Dem S...   \n",
       "4             2  Russia is unashamedly Authoritarian, Christian...   \n",
       "...         ...                                                ...   \n",
       "1072          2  Antifa Activist Threatens To Kill President Tr...   \n",
       "1073          0  Can somebody shed some light on the trump admi...   \n",
       "1074          3  I guess the Ruskies did not help Trump enough,...   \n",
       "1075          3  The Trump Administration pulled out of the JCP...   \n",
       "1076          0  Will Affirmative Action End Soon Because of Tr...   \n",
       "\n",
       "      Unnamed: 2                 time  \n",
       "0              0  2016-12-30 23:21:38  \n",
       "1              1  2016-12-30 16:47:07  \n",
       "2              2  2016-12-30 14:50:26  \n",
       "3              3  2016-12-30 14:27:26  \n",
       "4              4  2016-12-30 14:14:00  \n",
       "...          ...                  ...  \n",
       "1072         593   2018-08-14 0:55:12  \n",
       "1073         594  2018-08-13 14:06:22  \n",
       "1074         595  2018-08-13 13:37:41  \n",
       "1075         596  2018-08-13 13:18:34  \n",
       "1076         597   2018-08-13 2:03:15  \n",
       "\n",
       "[1077 rows x 4 columns]"
      ]
     },
     "execution_count": 17,
     "metadata": {},
     "output_type": "execute_result"
    }
   ],
   "source": [
    "data_df=pd.read_csv(\"Data_project-3 - Sheet1.csv\")\n",
    "data_df"
   ]
  },
  {
   "cell_type": "code",
   "execution_count": 18,
   "metadata": {},
   "outputs": [
    {
     "name": "stdout",
     "output_type": "stream",
     "text": [
      "<class 'pandas.core.frame.DataFrame'>\n",
      "RangeIndex: 1077 entries, 0 to 1076\n",
      "Data columns (total 4 columns):\n",
      " #   Column      Non-Null Count  Dtype \n",
      "---  ------      --------------  ----- \n",
      " 0   Sentiment   1077 non-null   int64 \n",
      " 1   title       1077 non-null   object\n",
      " 2   Unnamed: 2  1077 non-null   int64 \n",
      " 3   time        1077 non-null   object\n",
      "dtypes: int64(2), object(2)\n",
      "memory usage: 33.8+ KB\n"
     ]
    }
   ],
   "source": [
    "data_df.info()"
   ]
  },
  {
   "cell_type": "code",
   "execution_count": 16,
   "metadata": {},
   "outputs": [
    {
     "data": {
      "image/png": "[encoded data removed]",
      "text/plain": [
       "<Figure size 432x288 with 2 Axes>"
      ]
     },
     "metadata": {
      "needs_background": "light"
     },
     "output_type": "display_data"
    }
   ],
   "source": [
    "hist = data_df.hist(bins=10)"
   ]
  },
  {
   "cell_type": "code",
   "execution_count": 68,
   "metadata": {},
   "outputs": [],
   "source": [
    "from nltk.corpus import stopwords\n",
    "from nltk.tokenize import word_tokenize\n",
    "#!pip install WordCloud\n",
    "from wordcloud import WordCloud\n",
    "import matplotlib.pyplot as plt"
   ]
  },
  {
   "cell_type": "code",
   "execution_count": 101,
   "metadata": {},
   "outputs": [],
   "source": [
    "STOPWORDS=[\"GOP\",\"Sander\",\"GOP party\",\"Biden\",\"support\",\"would\",\"Hillary\",\"Clinton\",\"year\"\"would\",\"could\",\"Clinton\",\"administration\",\"vote\",\"election\",\"Donald\",\"President\",\"Trump\",\"i\", \"me\", \"my\", \"myself\", \"we\", \"our\", \"ours\", \"ourselves\", \"you\", \"your\", \"yours\", \"yourself\", \"yourselves\", \"he\", \"him\", \"his\", \"himself\", \"she\", \"her\", \"hers\", \"herself\", \"it\", \"its\", \"itself\", \"they\", \"them\", \"their\", \"theirs\", \"themselves\", \"what\", \"which\", \"who\", \"whom\", \"this\", \"that\", \"these\", \"those\", \"am\", \"is\", \"are\", \"was\", \"were\", \"be\", \"been\", \"being\", \"have\", \"has\", \"had\", \"having\", \"do\", \"does\", \"did\", \"doing\", \"a\", \"an\", \"the\", \"and\", \"but\", \"if\", \"or\", \"because\", \"as\", \"until\", \"while\", \"of\", \"at\", \"by\", \"for\", \"with\", \"about\", \"against\", \"between\", \"into\", \"through\", \"during\", \"before\", \"after\", \"above\", \"below\", \"to\", \"from\", \"up\", \"down\", \"in\", \"out\", \"on\", \"off\", \"over\", \"under\", \"again\", \"further\", \"then\", \"once\", \"here\", \"there\", \"when\", \"where\", \"why\", \"how\", \"all\", \"any\", \"both\", \"each\", \"few\", \"more\", \"most\", \"other\", \"some\", \"such\", \"no\", \"nor\", \"not\", \"only\", \"own\", \"same\", \"so\", \"than\", \"too\", \"very\", \"s\", \"t\", \"can\", \"will\", \"just\", \"don\", \"should\", \"now\"]\n"
   ]
  },
  {
   "cell_type": "code",
   "execution_count": 102,
   "metadata": {},
   "outputs": [
    {
     "data": {
      "image/png": "[encoded data removed]",
      "text/plain": [
       "<Figure size 432x288 with 1 Axes>"
      ]
     },
     "metadata": {
      "needs_background": "light"
     },
     "output_type": "display_data"
    }
   ],
   "source": [
    "# Create stopword list:\n",
    "from nltk.corpus import stopwords\n",
    "\n",
    "stopwords = set(STOPWORDS)\n",
    "textt = \" \".join(title for title in data_df[\"title\"])\n",
    "wordcloud = WordCloud(stopwords=stopwords).generate(textt)\n",
    "plt.imshow(wordcloud, interpolation='bilinear')\n",
    "plt.axis(\"off\")\n",
    "plt.savefig('wordcloud11.png')\n",
    "plt.show()"
   ]
  },
  {
   "cell_type": "code",
   "execution_count": 103,
   "metadata": {
    "collapsed": true,
    "jupyter": {
     "outputs_hidden": true
    }
   },
   "outputs": [
    {
     "data": {
      "text/plain": [
       "{'U': 1.0,\n",
       " 'Republican': 0.9230769230769231,\n",
       " 'think': 0.8461538461538461,\n",
       " 'presidency': 0.6461538461538462,\n",
       " 'people': 0.6461538461538462,\n",
       " 'supporter': 0.6307692307692307,\n",
       " 'new': 0.6,\n",
       " 'Russia': 0.5846153846153846,\n",
       " 'office': 0.5846153846153846,\n",
       " 'Democrat': 0.5846153846153846,\n",
       " 'Secretary': 0.5692307692307692,\n",
       " 'win': 0.5538461538461539,\n",
       " 'Obama': 0.5538461538461539,\n",
       " 'State': 0.5384615384615384,\n",
       " 'happen': 0.49230769230769234,\n",
       " 'political': 0.46153846153846156,\n",
       " 'like': 0.46153846153846156,\n",
       " 'campaign': 0.4461538461538462,\n",
       " 'year': 0.4153846153846154,\n",
       " 'elect': 0.4153846153846154,\n",
       " 'good': 0.4,\n",
       " 'make': 0.4,\n",
       " 'likely': 0.4,\n",
       " 'actually': 0.38461538461538464,\n",
       " 'get': 0.38461538461538464,\n",
       " 'American': 0.36923076923076925,\n",
       " 'say': 0.36923076923076925,\n",
       " 'one': 0.35384615384615387,\n",
       " 'chance': 0.35384615384615387,\n",
       " 'right': 0.35384615384615387,\n",
       " 'Electoral College': 0.3384615384615385,\n",
       " 'candidate': 0.3230769230769231,\n",
       " 'future': 0.3230769230769231,\n",
       " 'done': 0.3230769230769231,\n",
       " 'really': 0.3230769230769231,\n",
       " 'possible': 0.3230769230769231,\n",
       " 'since': 0.3230769230769231,\n",
       " 'voter': 0.3230769230769231,\n",
       " 'going': 0.3076923076923077,\n",
       " 'job': 0.3076923076923077,\n",
       " 'help': 0.3076923076923077,\n",
       " 'implication': 0.3076923076923077,\n",
       " 'China': 0.2923076923076923,\n",
       " 'question': 0.2923076923076923,\n",
       " 'policies': 0.2923076923076923,\n",
       " 'Russian': 0.27692307692307694,\n",
       " 'way': 0.27692307692307694,\n",
       " 'much': 0.27692307692307694,\n",
       " 'first': 0.27692307692307694,\n",
       " 'term': 0.27692307692307694,\n",
       " 'next': 0.27692307692307694,\n",
       " 'time': 0.27692307692307694,\n",
       " 'bad': 0.27692307692307694,\n",
       " 'mean': 0.27692307692307694,\n",
       " 'wall': 0.27692307692307694,\n",
       " 'Mueller': 0.27692307692307694,\n",
       " 'won': 0.26153846153846155,\n",
       " 'change': 0.26153846153846155,\n",
       " 'run': 0.26153846153846155,\n",
       " 'take': 0.26153846153846155,\n",
       " 'media': 0.24615384615384617,\n",
       " 'someone': 0.24615384615384617,\n",
       " 'liberal': 0.24615384615384617,\n",
       " 'House': 0.24615384615384617,\n",
       " 'back': 0.24615384615384617,\n",
       " 'impeached': 0.24615384615384617,\n",
       " 'deal': 0.24615384615384617,\n",
       " 'Senate': 0.24615384615384617,\n",
       " 'made': 0.24615384615384617,\n",
       " 'elector': 0.24615384615384617,\n",
       " 'impeachment': 0.24615384615384617,\n",
       " 'amp': 0.23076923076923078,\n",
       " 'effect': 0.23076923076923078,\n",
       " 'law': 0.23076923076923078,\n",
       " 'Putin': 0.2153846153846154,\n",
       " 'end': 0.2153846153846154,\n",
       " 'left': 0.2153846153846154,\n",
       " 'power': 0.2153846153846154,\n",
       " 'said': 0.2153846153846154,\n",
       " 'Democratic': 0.2153846153846154,\n",
       " 'move': 0.2153846153846154,\n",
       " 'thing': 0.2153846153846154,\n",
       " 'stop': 0.2153846153846154,\n",
       " 'believe': 0.2153846153846154,\n",
       " 'voted': 0.2,\n",
       " 'policy': 0.2,\n",
       " 'benefit': 0.2,\n",
       " 'regard': 0.2,\n",
       " 'Democratic Party': 0.2,\n",
       " 'expect': 0.18461538461538463,\n",
       " 'Party': 0.18461538461538463,\n",
       " 'politics': 0.18461538461538463,\n",
       " 'lose': 0.18461538461538463,\n",
       " 'still': 0.18461538461538463,\n",
       " 'elections': 0.18461538461538463,\n",
       " 'result': 0.18461538461538463,\n",
       " 'many': 0.18461538461538463,\n",
       " 'given': 0.16923076923076924,\n",
       " 'former': 0.16923076923076924,\n",
       " 'conservative': 0.16923076923076924,\n",
       " 'presidential': 0.16923076923076924,\n",
       " 'see': 0.16923076923076924,\n",
       " 'relations': 0.16923076923076924,\n",
       " 'government': 0.16923076923076924,\n",
       " 'business': 0.16923076923076924,\n",
       " 'America': 0.16923076923076924,\n",
       " 'impact': 0.16923076923076924,\n",
       " 'best': 0.16923076923076924,\n",
       " 'Congress': 0.16923076923076924,\n",
       " 'federal': 0.16923076923076924,\n",
       " 'opinion': 0.16923076923076924,\n",
       " 'everyone': 0.16923076923076924,\n",
       " 'something': 0.16923076923076924,\n",
       " 'person': 0.16923076923076924,\n",
       " 'White House': 0.16923076923076924,\n",
       " 'recent': 0.15384615384615385,\n",
       " 'team': 0.15384615384615385,\n",
       " 'today': 0.15384615384615385,\n",
       " 'Serious': 0.15384615384615385,\n",
       " 'Israel': 0.15384615384615385,\n",
       " 'evidence': 0.15384615384615385,\n",
       " 'Pence': 0.15384615384615385,\n",
       " 'real': 0.15384615384615385,\n",
       " 'anyone': 0.15384615384615385,\n",
       " 'amendment': 0.15384615384615385,\n",
       " 'current': 0.15384615384615385,\n",
       " 'use': 0.15384615384615385,\n",
       " 'issue': 0.15384615384615385,\n",
       " 'elected': 0.15384615384615385,\n",
       " 'pay': 0.15384615384615385,\n",
       " 'plan': 0.15384615384615385,\n",
       " 'name': 0.15384615384615385,\n",
       " 'pick': 0.15384615384615385,\n",
       " 'case': 0.15384615384615385,\n",
       " 'feel': 0.15384615384615385,\n",
       " 'come': 0.15384615384615385,\n",
       " 'affect': 0.15384615384615385,\n",
       " 'recount': 0.15384615384615385,\n",
       " 'want': 0.15384615384615385,\n",
       " 'enough': 0.15384615384615385,\n",
       " 'Rex Tillerson': 0.15384615384615385,\n",
       " 'birthright citizenship': 0.15384615384615385,\n",
       " 'true': 0.13846153846153847,\n",
       " 'possibly': 0.13846153846153847,\n",
       " 'better': 0.13846153846153847,\n",
       " 'reason': 0.13846153846153847,\n",
       " 'anything': 0.13846153846153847,\n",
       " 'conflict': 0.13846153846153847,\n",
       " 'foreign': 0.13846153846153847,\n",
       " 'ever': 0.13846153846153847,\n",
       " 'claim': 0.13846153846153847,\n",
       " 'national': 0.13846153846153847,\n",
       " 'seem': 0.13846153846153847,\n",
       " 'build': 0.13846153846153847,\n",
       " 'tax': 0.13846153846153847,\n",
       " 'go': 0.13846153846153847,\n",
       " 'call': 0.13846153846153847,\n",
       " 'trying': 0.13846153846153847,\n",
       " 'find': 0.13846153846153847,\n",
       " 'Taiwan': 0.13846153846153847,\n",
       " 'interest': 0.13846153846153847,\n",
       " 'chosen': 0.13846153846153847,\n",
       " 'impeach': 0.13846153846153847,\n",
       " 'toward': 0.13846153846153847,\n",
       " 'far': 0.13846153846153847,\n",
       " 'v': 0.13846153846153847,\n",
       " 'action': 0.13846153846153847,\n",
       " 'anti': 0.12307692307692308,\n",
       " 'Discussion': 0.12307692307692308,\n",
       " 'using': 0.12307692307692308,\n",
       " 'hacking': 0.12307692307692308,\n",
       " 'idea': 0.12307692307692308,\n",
       " 'explain': 0.12307692307692308,\n",
       " 'presidents': 0.12307692307692308,\n",
       " 'court': 0.12307692307692308,\n",
       " 'last': 0.12307692307692308,\n",
       " 'Defense': 0.12307692307692308,\n",
       " 'influence': 0.12307692307692308,\n",
       " 'cause': 0.12307692307692308,\n",
       " 'votes': 0.12307692307692308,\n",
       " 'getting': 0.12307692307692308,\n",
       " 'might': 0.12307692307692308,\n",
       " 'intelligence': 0.12307692307692308,\n",
       " 'consequences': 0.12307692307692308,\n",
       " 'John': 0.12307692307692308,\n",
       " 'become': 0.12307692307692308,\n",
       " 'major': 0.12307692307692308,\n",
       " 'hold': 0.12307692307692308,\n",
       " 'general': 0.12307692307692308,\n",
       " 'even': 0.12307692307692308,\n",
       " 'event': 0.12307692307692308,\n",
       " 'racist': 0.12307692307692308,\n",
       " 'never': 0.12307692307692308,\n",
       " 'investigation': 0.12307692307692308,\n",
       " 'thought': 0.12307692307692308,\n",
       " 'Pre': 0.12307692307692308,\n",
       " 'United States': 0.12307692307692308,\n",
       " 'Saudi Arabia': 0.12307692307692308,\n",
       " 'look like': 0.12307692307692308,\n",
       " 'mind': 0.1076923076923077}"
      ]
     },
     "execution_count": 103,
     "metadata": {},
     "output_type": "execute_result"
    }
   ],
   "source": [
    "wordcloud.words_"
   ]
  },
  {
   "cell_type": "code",
   "execution_count": 104,
   "metadata": {},
   "outputs": [],
   "source": [
    "positive = data_df[data_df['Sentiment'] == 1]\n",
    "negative = data_df[data_df['Sentiment'] == 2]\n",
    "neutral= data_df[data_df['Sentiment'] == 0]\n",
    "drop= data_df[data_df['Sentiment'] == 3]"
   ]
  },
  {
   "cell_type": "code",
   "execution_count": 105,
   "metadata": {},
   "outputs": [],
   "source": [
    "stopwords = set(STOPWORDS)\n",
    "pos= \" \".join(title for title in positive.title)\n",
    "wordcloud2 = WordCloud(stopwords=stopwords).generate(pos)"
   ]
  },
  {
   "cell_type": "code",
   "execution_count": 106,
   "metadata": {},
   "outputs": [
    {
     "data": {
      "image/png": "[encoded data removed]",
      "text/plain": [
       "<Figure size 432x288 with 1 Axes>"
      ]
     },
     "metadata": {
      "needs_background": "light"
     },
     "output_type": "display_data"
    }
   ],
   "source": [
    "plt.imshow(wordcloud2, interpolation='bilinear')\n",
    "plt.axis(\"off\")\n",
    "plt.show()"
   ]
  },
  {
   "cell_type": "code",
   "execution_count": 107,
   "metadata": {},
   "outputs": [],
   "source": [
    "stopwords = set(STOPWORDS)\n",
    "neg= \" \".join(title for title in negative.title)\n",
    "wordcloud3 = WordCloud(stopwords=stopwords).generate(neg)"
   ]
  },
  {
   "cell_type": "code",
   "execution_count": 108,
   "metadata": {},
   "outputs": [
    {
     "data": {
      "image/png": "[encoded data removed]",
      "text/plain": [
       "<Figure size 432x288 with 1 Axes>"
      ]
     },
     "metadata": {
      "needs_background": "light"
     },
     "output_type": "display_data"
    }
   ],
   "source": [
    "plt.imshow(wordcloud3, interpolation='bilinear')\n",
    "plt.axis(\"off\")\n",
    "plt.show()"
   ]
  },
  {
   "cell_type": "code",
   "execution_count": 109,
   "metadata": {},
   "outputs": [],
   "source": [
    "sentiment_df=data_df.copy()"
   ]
  },
  {
   "cell_type": "code",
   "execution_count": 120,
   "metadata": {},
   "outputs": [
    {
     "data": {
      "text/html": [
       "<div>\n",
       "<style scoped>\n",
       "    .dataframe tbody tr th:only-of-type {\n",
       "        vertical-align: middle;\n",
       "    }\n",
       "\n",
       "    .dataframe tbody tr th {\n",
       "        vertical-align: top;\n",
       "    }\n",
       "\n",
       "    .dataframe thead th {\n",
       "        text-align: right;\n",
       "    }\n",
       "</style>\n",
       "<table border=\"1\" class=\"dataframe\">\n",
       "  <thead>\n",
       "    <tr style=\"text-align: right;\">\n",
       "      <th></th>\n",
       "      <th>Sentiment</th>\n",
       "      <th>title</th>\n",
       "      <th>Unnamed: 2</th>\n",
       "      <th>time</th>\n",
       "    </tr>\n",
       "  </thead>\n",
       "  <tbody>\n",
       "    <tr>\n",
       "      <th>0</th>\n",
       "      <td>negative</td>\n",
       "      <td>Assuming to be true that Putin is manipulating...</td>\n",
       "      <td>0</td>\n",
       "      <td>2016-12-30 23:21:38</td>\n",
       "    </tr>\n",
       "    <tr>\n",
       "      <th>1</th>\n",
       "      <td>neutral</td>\n",
       "      <td>My unpleasant experience from a Hillary suppor...</td>\n",
       "      <td>1</td>\n",
       "      <td>2016-12-30 16:47:07</td>\n",
       "    </tr>\n",
       "    <tr>\n",
       "      <th>2</th>\n",
       "      <td>negative</td>\n",
       "      <td>Given the recent findings about Trump illegall...</td>\n",
       "      <td>2</td>\n",
       "      <td>2016-12-30 14:50:26</td>\n",
       "    </tr>\n",
       "    <tr>\n",
       "      <th>3</th>\n",
       "      <td>negative</td>\n",
       "      <td>I'll be on Fox News Channel at 1pm (as a Dem S...</td>\n",
       "      <td>3</td>\n",
       "      <td>2016-12-30 14:27:26</td>\n",
       "    </tr>\n",
       "    <tr>\n",
       "      <th>4</th>\n",
       "      <td>negative</td>\n",
       "      <td>Russia is unashamedly Authoritarian, Christian...</td>\n",
       "      <td>4</td>\n",
       "      <td>2016-12-30 14:14:00</td>\n",
       "    </tr>\n",
       "    <tr>\n",
       "      <th>...</th>\n",
       "      <td>...</td>\n",
       "      <td>...</td>\n",
       "      <td>...</td>\n",
       "      <td>...</td>\n",
       "    </tr>\n",
       "    <tr>\n",
       "      <th>1072</th>\n",
       "      <td>negative</td>\n",
       "      <td>Antifa Activist Threatens To Kill President Tr...</td>\n",
       "      <td>593</td>\n",
       "      <td>2018-08-14 0:55:12</td>\n",
       "    </tr>\n",
       "    <tr>\n",
       "      <th>1073</th>\n",
       "      <td>neutral</td>\n",
       "      <td>Can somebody shed some light on the trump admi...</td>\n",
       "      <td>594</td>\n",
       "      <td>2018-08-13 14:06:22</td>\n",
       "    </tr>\n",
       "    <tr>\n",
       "      <th>1074</th>\n",
       "      <td>drop</td>\n",
       "      <td>I guess the Ruskies did not help Trump enough,...</td>\n",
       "      <td>595</td>\n",
       "      <td>2018-08-13 13:37:41</td>\n",
       "    </tr>\n",
       "    <tr>\n",
       "      <th>1075</th>\n",
       "      <td>drop</td>\n",
       "      <td>The Trump Administration pulled out of the JCP...</td>\n",
       "      <td>596</td>\n",
       "      <td>2018-08-13 13:18:34</td>\n",
       "    </tr>\n",
       "    <tr>\n",
       "      <th>1076</th>\n",
       "      <td>neutral</td>\n",
       "      <td>Will Affirmative Action End Soon Because of Tr...</td>\n",
       "      <td>597</td>\n",
       "      <td>2018-08-13 2:03:15</td>\n",
       "    </tr>\n",
       "  </tbody>\n",
       "</table>\n",
       "<p>1077 rows × 4 columns</p>\n",
       "</div>"
      ],
      "text/plain": [
       "     Sentiment                                              title  Unnamed: 2  \\\n",
       "0     negative  Assuming to be true that Putin is manipulating...           0   \n",
       "1      neutral  My unpleasant experience from a Hillary suppor...           1   \n",
       "2     negative  Given the recent findings about Trump illegall...           2   \n",
       "3     negative  I'll be on Fox News Channel at 1pm (as a Dem S...           3   \n",
       "4     negative  Russia is unashamedly Authoritarian, Christian...           4   \n",
       "...        ...                                                ...         ...   \n",
       "1072  negative  Antifa Activist Threatens To Kill President Tr...         593   \n",
       "1073   neutral  Can somebody shed some light on the trump admi...         594   \n",
       "1074      drop  I guess the Ruskies did not help Trump enough,...         595   \n",
       "1075      drop  The Trump Administration pulled out of the JCP...         596   \n",
       "1076   neutral  Will Affirmative Action End Soon Because of Tr...         597   \n",
       "\n",
       "                     time  \n",
       "0     2016-12-30 23:21:38  \n",
       "1     2016-12-30 16:47:07  \n",
       "2     2016-12-30 14:50:26  \n",
       "3     2016-12-30 14:27:26  \n",
       "4     2016-12-30 14:14:00  \n",
       "...                   ...  \n",
       "1072   2018-08-14 0:55:12  \n",
       "1073  2018-08-13 14:06:22  \n",
       "1074  2018-08-13 13:37:41  \n",
       "1075  2018-08-13 13:18:34  \n",
       "1076   2018-08-13 2:03:15  \n",
       "\n",
       "[1077 rows x 4 columns]"
      ]
     },
     "execution_count": 120,
     "metadata": {},
     "output_type": "execute_result"
    }
   ],
   "source": [
    "sentiment_df[\"Sentiment\"]=sentiment_df['Sentiment'].replace({2 : 'negative'})\n",
    "sentiment_df[\"Sentiment\"]=sentiment_df['Sentiment'].replace({1 : 'positive'})\n",
    "sentiment_df[\"Sentiment\"]=sentiment_df['Sentiment'].replace({0 : 'neutral'})\n",
    "sentiment_df[\"Sentiment\"]=sentiment_df['Sentiment'].replace({3 : 'drop'})\n",
    "sentiment_df"
   ]
  },
  {
   "cell_type": "code",
   "execution_count": 116,
   "metadata": {},
   "outputs": [
    {
     "name": "stdout",
     "output_type": "stream",
     "text": [
      "Collecting plotly\n",
      "  Downloading plotly-5.1.0-py2.py3-none-any.whl (20.6 MB)\n",
      "Collecting tenacity>=6.2.0\n",
      "  Downloading tenacity-7.0.0-py2.py3-none-any.whl (23 kB)\n",
      "Requirement already satisfied: six in c:\\users\\fredd\\anaconda3\\lib\\site-packages (from plotly) (1.15.0)\n",
      "Installing collected packages: tenacity, plotly\n",
      "Successfully installed plotly-5.1.0 tenacity-7.0.0\n"
     ]
    }
   ],
   "source": [
    "!pip install plotly\n",
    "import plotly.express as px"
   ]
  },
  {
   "cell_type": "code",
   "execution_count": 119,
   "metadata": {},
   "outputs": [
    {
     "data": {
      "application/vnd.plotly.v1+json": {
       "config": {
        "plotlyServerURL": "https://plot.ly"
       },
       "data": [
        {
         "alignmentgroup": "True",
         "bingroup": "x",
         "hovertemplate": "Sentiment=%{x}<br>count=%{y}<extra></extra>",
         "legendgroup": "",
         "marker": {
          "color": "indianred",
          "line": {
           "color": "rgb(8,48,107)",
           "width": 1.5
          },
          "pattern": {
           "shape": ""
          }
         },
         "name": "",
         "offsetgroup": "",
         "orientation": "v",
         "showlegend": false,
         "type": "histogram",
         "x": [
          "negative",
          0,
          "negative",
          "negative",
          "negative",
          "negative",
          "negative",
          "positive",
          3,
          3,
          "negative",
          "negative",
          0,
          "negative",
          0,
          0,
          "positive",
          0,
          "negative",
          "positive",
          0,
          0,
          "negative",
          "negative",
          "positive",
          3,
          "negative",
          "negative",
          0,
          "positive",
          0,
          3,
          "negative",
          "negative",
          "negative",
          0,
          "positive",
          3,
          0,
          "positive",
          0,
          3,
          "negative",
          "negative",
          0,
          "positive",
          "positive",
          "negative",
          "positive",
          3,
          0,
          "positive",
          "negative",
          "negative",
          "negative",
          3,
          3,
          "positive",
          "negative",
          0,
          0,
          0,
          0,
          0,
          0,
          "negative",
          3,
          3,
          "positive",
          "negative",
          "positive",
          "positive",
          0,
          "negative",
          0,
          0,
          0,
          "negative",
          "negative",
          "negative",
          3,
          "negative",
          "positive",
          0,
          0,
          0,
          3,
          3,
          "positive",
          0,
          "positive",
          "negative",
          "negative",
          0,
          "positive",
          3,
          0,
          3,
          0,
          "positive",
          3,
          "negative",
          "positive",
          "negative",
          "negative",
          3,
          "negative",
          "positive",
          "positive",
          "positive",
          "negative",
          "negative",
          "negative",
          "positive",
          "negative",
          3,
          "negative",
          "negative",
          "negative",
          "negative",
          3,
          "negative",
          "negative",
          "positive",
          "negative",
          "negative",
          "positive",
          "negative",
          "negative",
          3,
          3,
          "negative",
          "negative",
          "positive",
          0,
          "negative",
          0,
          3,
          "positive",
          "negative",
          0,
          0,
          0,
          "negative",
          "positive",
          "negative",
          0,
          "negative",
          "positive",
          "negative",
          "negative",
          "negative",
          0,
          0,
          "positive",
          "positive",
          3,
          0,
          "negative",
          3,
          0,
          "negative",
          "positive",
          0,
          "negative",
          "positive",
          "positive",
          "negative",
          "negative",
          0,
          "positive",
          0,
          "negative",
          "positive",
          "positive",
          "negative",
          3,
          "positive",
          0,
          "positive",
          "positive",
          3,
          0,
          0,
          0,
          0,
          0,
          "negative",
          "positive",
          3,
          "positive",
          0,
          0,
          "negative",
          "negative",
          0,
          "positive",
          0,
          "negative",
          "positive",
          "negative",
          0,
          "negative",
          "positive",
          "positive",
          "positive",
          0,
          3,
          "positive",
          0,
          "negative",
          "positive",
          "positive",
          "negative",
          0,
          "negative",
          "positive",
          3,
          0,
          "positive",
          "positive",
          0,
          "positive",
          "negative",
          "negative",
          3,
          "negative",
          3,
          "negative",
          "negative",
          0,
          "negative",
          "positive",
          "positive",
          "negative",
          "negative",
          "negative",
          "positive",
          3,
          3,
          "positive",
          "positive",
          "negative",
          "positive",
          "positive",
          "positive",
          "negative",
          "positive",
          "negative",
          "positive",
          "negative",
          "positive",
          "negative",
          "negative",
          "positive",
          0,
          "negative",
          "negative",
          0,
          0,
          "negative",
          0,
          0,
          "negative",
          3,
          "negative",
          "negative",
          0,
          "positive",
          "negative",
          3,
          "negative",
          "positive",
          "positive",
          "negative",
          3,
          3,
          "negative",
          "negative",
          "negative",
          0,
          "negative",
          0,
          "positive",
          3,
          "negative",
          0,
          "negative",
          "positive",
          3,
          0,
          "positive",
          0,
          "negative",
          "negative",
          "negative",
          "negative",
          "negative",
          3,
          "negative",
          "negative",
          "positive",
          "positive",
          0,
          0,
          0,
          "positive",
          "negative",
          "negative",
          0,
          0,
          "negative",
          0,
          0,
          "negative",
          "negative",
          0,
          0,
          0,
          0,
          0,
          "positive",
          0,
          0,
          "positive",
          "positive",
          0,
          3,
          "positive",
          3,
          3,
          "positive",
          "negative",
          "negative",
          3,
          3,
          "positive",
          "positive",
          0,
          0,
          3,
          "positive",
          0,
          3,
          "positive",
          0,
          3,
          "negative",
          0,
          0,
          0,
          3,
          "negative",
          0,
          0,
          0,
          0,
          0,
          0,
          0,
          0,
          0,
          0,
          "negative",
          0,
          "negative",
          0,
          0,
          0,
          "negative",
          3,
          0,
          0,
          "negative",
          0,
          3,
          0,
          "positive",
          "negative",
          "negative",
          "negative",
          "negative",
          3,
          3,
          "negative",
          "negative",
          "positive",
          0,
          "positive",
          0,
          "negative",
          0,
          "positive",
          "negative",
          0,
          3,
          0,
          "negative",
          0,
          0,
          0,
          "negative",
          0,
          "positive",
          "positive",
          3,
          0,
          "negative",
          "positive",
          3,
          3,
          3,
          "negative",
          "negative",
          "negative",
          "negative",
          0,
          "negative",
          "positive",
          "positive",
          0,
          "negative",
          0,
          0,
          "positive",
          0,
          0,
          "negative",
          0,
          0,
          3,
          "positive",
          0,
          "positive",
          "positive",
          "negative",
          0,
          "negative",
          3,
          0,
          "negative",
          "positive",
          0,
          "negative",
          0,
          0,
          "positive",
          "positive",
          "positive",
          0,
          3,
          0,
          "positive",
          0,
          0,
          "negative",
          0,
          "negative",
          "negative",
          0,
          "positive",
          3,
          0,
          0,
          0,
          0,
          0,
          "positive",
          0,
          "negative",
          0,
          "negative",
          0,
          3,
          "negative",
          "negative",
          0,
          "negative",
          "positive",
          0,
          0,
          "negative",
          3,
          "positive",
          0,
          "positive",
          0,
          3,
          "positive",
          0,
          "positive",
          0,
          "negative",
          0,
          0,
          0,
          0,
          0,
          0,
          "negative",
          0,
          "positive",
          "negative",
          "negative",
          "positive",
          0,
          "positive",
          "negative",
          "negative",
          0,
          "negative",
          "negative",
          0,
          0,
          "negative",
          "positive",
          "positive",
          "positive",
          "positive",
          0,
          0,
          "positive",
          "negative",
          "positive",
          0,
          "negative",
          "positive",
          "positive",
          0,
          0,
          0,
          "negative",
          0,
          "positive",
          "negative",
          0,
          0,
          0,
          "negative",
          "negative",
          "positive",
          "positive",
          "positive",
          "positive",
          0,
          0,
          0,
          0,
          "positive",
          0,
          "negative",
          0,
          0,
          0,
          0,
          0,
          "positive",
          "positive",
          0,
          0,
          "negative",
          "negative",
          0,
          0,
          0,
          "positive",
          "negative",
          "negative",
          "negative",
          "positive",
          0,
          0,
          0,
          "negative",
          "negative",
          "positive",
          "positive",
          "negative",
          0,
          0,
          0,
          "negative",
          "negative",
          "negative",
          "positive",
          "negative",
          0,
          0,
          0,
          0,
          0,
          "positive",
          "positive",
          "negative",
          0,
          0,
          "negative",
          3,
          3,
          "negative",
          3,
          "negative",
          3,
          "negative",
          "negative",
          "negative",
          3,
          "positive",
          0,
          0,
          3,
          0,
          3,
          "negative",
          3,
          "negative",
          0,
          "negative",
          "positive",
          "negative",
          "positive",
          "negative",
          "positive",
          0,
          "negative",
          "positive",
          3,
          0,
          "negative",
          "negative",
          3,
          "positive",
          3,
          "negative",
          "positive",
          "positive",
          "positive",
          3,
          0,
          3,
          "positive",
          "negative",
          "positive",
          "positive",
          "negative",
          3,
          "negative",
          0,
          0,
          3,
          3,
          0,
          "negative",
          3,
          "negative",
          "negative",
          "negative",
          "positive",
          3,
          "negative",
          3,
          "positive",
          "positive",
          "negative",
          "negative",
          "negative",
          "negative",
          0,
          0,
          "negative",
          3,
          0,
          "positive",
          3,
          "positive",
          3,
          0,
          0,
          3,
          "negative",
          "positive",
          "positive",
          "positive",
          "negative",
          "positive",
          3,
          0,
          "positive",
          "negative",
          "positive",
          "negative",
          "positive",
          "positive",
          "positive",
          "positive",
          3,
          3,
          "positive",
          "positive",
          "negative",
          3,
          "negative",
          0,
          "positive",
          "positive",
          "negative",
          "positive",
          "negative",
          3,
          3,
          3,
          "negative",
          3,
          0,
          0,
          "positive",
          "negative",
          0,
          "negative",
          0,
          0,
          3,
          0,
          0,
          "negative",
          3,
          3,
          0,
          0,
          0,
          0,
          0,
          0,
          0,
          3,
          "positive",
          "positive",
          3,
          0,
          "positive",
          3,
          "negative",
          0,
          3,
          3,
          0,
          "negative",
          0,
          3,
          3,
          "positive",
          "positive",
          3,
          "positive",
          0,
          "positive",
          "negative",
          3,
          "positive",
          "negative",
          3,
          "negative",
          "negative",
          3,
          3,
          "negative",
          3,
          "positive",
          "negative",
          3,
          0,
          3,
          3,
          3,
          3,
          3,
          "positive",
          0,
          0,
          "positive",
          "positive",
          "negative",
          "positive",
          "negative",
          "negative",
          "positive",
          "negative",
          "negative",
          "positive",
          "negative",
          3,
          "positive",
          "negative",
          "negative",
          "negative",
          "negative",
          "positive",
          "positive",
          3,
          "positive",
          "positive",
          "negative",
          3,
          "positive",
          3,
          0,
          0,
          0,
          0,
          "negative",
          "negative",
          0,
          0,
          "positive",
          0,
          0,
          0,
          3,
          3,
          "negative",
          3,
          0,
          "positive",
          3,
          "negative",
          0,
          3,
          3,
          3,
          3,
          "positive",
          "positive",
          0,
          "positive",
          "positive",
          "negative",
          3,
          0,
          0,
          "negative",
          3,
          3,
          3,
          "positive",
          "positive",
          3,
          "negative",
          3,
          3,
          "positive",
          "positive",
          "positive",
          0,
          "negative",
          "positive",
          3,
          "negative",
          3,
          "positive",
          "negative",
          3,
          0,
          0,
          3,
          3,
          3,
          3,
          "negative",
          "positive",
          "positive",
          0,
          "negative",
          "positive",
          3,
          "positive",
          "positive",
          3,
          3,
          "negative",
          "positive",
          3,
          3,
          3,
          "positive",
          "negative",
          3,
          3,
          "negative",
          "positive",
          3,
          "negative",
          3,
          3,
          3,
          "negative",
          3,
          3,
          "negative",
          "negative",
          3,
          "positive",
          "negative",
          "negative",
          "positive",
          3,
          "negative",
          3,
          "positive",
          0,
          "negative",
          3,
          3,
          3,
          "positive",
          "positive",
          "negative",
          "positive",
          "positive",
          "negative",
          "positive",
          "positive",
          3,
          3,
          3,
          "negative",
          "negative",
          "positive",
          "negative",
          "positive",
          "positive",
          3,
          "positive",
          3,
          3,
          "positive",
          3,
          "negative",
          3,
          "negative",
          "positive",
          3,
          "positive",
          "negative",
          "positive",
          "negative",
          "negative",
          3,
          "negative",
          3,
          "negative",
          "positive",
          "negative",
          3,
          "negative",
          3,
          3,
          "negative",
          3,
          "negative",
          0,
          "negative",
          "positive",
          3,
          3,
          "positive",
          3,
          0,
          "positive",
          "positive",
          "positive",
          "negative",
          "positive",
          3,
          3,
          3,
          0,
          "negative",
          "negative",
          3,
          "positive",
          3,
          "negative",
          3,
          3,
          "positive",
          "negative",
          "negative",
          "negative",
          "negative",
          "positive",
          "negative",
          "negative",
          3,
          "positive",
          "negative",
          "positive",
          3,
          3,
          "negative",
          "negative",
          3,
          3,
          "positive",
          "positive",
          "negative",
          "negative",
          "positive",
          "negative",
          "positive",
          "negative",
          "positive",
          "positive",
          "negative",
          "negative",
          "positive",
          "negative",
          3,
          "positive",
          "positive",
          "positive",
          "negative",
          "positive",
          3,
          "positive",
          0,
          "positive",
          3,
          "positive",
          "negative",
          3,
          3,
          "negative",
          "positive",
          "positive",
          3,
          3,
          "negative",
          "negative",
          "negative",
          "positive",
          "positive",
          "negative",
          "positive",
          "negative",
          "positive",
          "negative",
          "negative",
          "negative",
          3,
          3,
          "negative",
          "negative",
          "negative",
          "negative",
          "negative",
          3,
          "positive",
          "negative",
          0,
          3,
          "negative",
          3,
          "positive",
          "negative",
          "negative",
          0,
          "negative",
          0,
          "negative",
          0,
          0,
          "negative",
          "negative",
          0,
          3,
          3,
          0
         ],
         "xaxis": "x",
         "yaxis": "y"
        }
       ],
       "layout": {
        "barmode": "relative",
        "legend": {
         "tracegroupgap": 0
        },
        "margin": {
         "t": 60
        },
        "template": {
         "data": {
          "bar": [
           {
            "error_x": {
             "color": "#2a3f5f"
            },
            "error_y": {
             "color": "#2a3f5f"
            },
            "marker": {
             "line": {
              "color": "#E5ECF6",
              "width": 0.5
             },
             "pattern": {
              "fillmode": "overlay",
              "size": 10,
              "solidity": 0.2
             }
            },
            "type": "bar"
           }
          ],
          "barpolar": [
           {
            "marker": {
             "line": {
              "color": "#E5ECF6",
              "width": 0.5
             },
             "pattern": {
              "fillmode": "overlay",
              "size": 10,
              "solidity": 0.2
             }
            },
            "type": "barpolar"
           }
          ],
          "carpet": [
           {
            "aaxis": {
             "endlinecolor": "#2a3f5f",
             "gridcolor": "white",
             "linecolor": "white",
             "minorgridcolor": "white",
             "startlinecolor": "#2a3f5f"
            },
            "baxis": {
             "endlinecolor": "#2a3f5f",
             "gridcolor": "white",
             "linecolor": "white",
             "minorgridcolor": "white",
             "startlinecolor": "#2a3f5f"
            },
            "type": "carpet"
           }
          ],
          "choropleth": [
           {
            "colorbar": {
             "outlinewidth": 0,
             "ticks": ""
            },
            "type": "choropleth"
           }
          ],
          "contour": [
           {
            "colorbar": {
             "outlinewidth": 0,
             "ticks": ""
            },
            "colorscale": [
             [
              0,
              "#0d0887"
             ],
             [
              0.1111111111111111,
              "#46039f"
             ],
             [
              0.2222222222222222,
              "#7201a8"
             ],
             [
              0.3333333333333333,
              "#9c179e"
             ],
             [
              0.4444444444444444,
              "#bd3786"
             ],
             [
              0.5555555555555556,
              "#d8576b"
             ],
             [
              0.6666666666666666,
              "#ed7953"
             ],
             [
              0.7777777777777778,
              "#fb9f3a"
             ],
             [
              0.8888888888888888,
              "#fdca26"
             ],
             [
              1,
              "#f0f921"
             ]
            ],
            "type": "contour"
           }
          ],
          "contourcarpet": [
           {
            "colorbar": {
             "outlinewidth": 0,
             "ticks": ""
            },
            "type": "contourcarpet"
           }
          ],
          "heatmap": [
           {
            "colorbar": {
             "outlinewidth": 0,
             "ticks": ""
            },
            "colorscale": [
             [
              0,
              "#0d0887"
             ],
             [
              0.1111111111111111,
              "#46039f"
             ],
             [
              0.2222222222222222,
              "#7201a8"
             ],
             [
              0.3333333333333333,
              "#9c179e"
             ],
             [
              0.4444444444444444,
              "#bd3786"
             ],
             [
              0.5555555555555556,
              "#d8576b"
             ],
             [
              0.6666666666666666,
              "#ed7953"
             ],
             [
              0.7777777777777778,
              "#fb9f3a"
             ],
             [
              0.8888888888888888,
              "#fdca26"
             ],
             [
              1,
              "#f0f921"
             ]
            ],
            "type": "heatmap"
           }
          ],
          "heatmapgl": [
           {
            "colorbar": {
             "outlinewidth": 0,
             "ticks": ""
            },
            "colorscale": [
             [
              0,
              "#0d0887"
             ],
             [
              0.1111111111111111,
              "#46039f"
             ],
             [
              0.2222222222222222,
              "#7201a8"
             ],
             [
              0.3333333333333333,
              "#9c179e"
             ],
             [
              0.4444444444444444,
              "#bd3786"
             ],
             [
              0.5555555555555556,
              "#d8576b"
             ],
             [
              0.6666666666666666,
              "#ed7953"
             ],
             [
              0.7777777777777778,
              "#fb9f3a"
             ],
             [
              0.8888888888888888,
              "#fdca26"
             ],
             [
              1,
              "#f0f921"
             ]
            ],
            "type": "heatmapgl"
           }
          ],
          "histogram": [
           {
            "marker": {
             "pattern": {
              "fillmode": "overlay",
              "size": 10,
              "solidity": 0.2
             }
            },
            "type": "histogram"
           }
          ],
          "histogram2d": [
           {
            "colorbar": {
             "outlinewidth": 0,
             "ticks": ""
            },
            "colorscale": [
             [
              0,
              "#0d0887"
             ],
             [
              0.1111111111111111,
              "#46039f"
             ],
             [
              0.2222222222222222,
              "#7201a8"
             ],
             [
              0.3333333333333333,
              "#9c179e"
             ],
             [
              0.4444444444444444,
              "#bd3786"
             ],
             [
              0.5555555555555556,
              "#d8576b"
             ],
             [
              0.6666666666666666,
              "#ed7953"
             ],
             [
              0.7777777777777778,
              "#fb9f3a"
             ],
             [
              0.8888888888888888,
              "#fdca26"
             ],
             [
              1,
              "#f0f921"
             ]
            ],
            "type": "histogram2d"
           }
          ],
          "histogram2dcontour": [
           {
            "colorbar": {
             "outlinewidth": 0,
             "ticks": ""
            },
            "colorscale": [
             [
              0,
              "#0d0887"
             ],
             [
              0.1111111111111111,
              "#46039f"
             ],
             [
              0.2222222222222222,
              "#7201a8"
             ],
             [
              0.3333333333333333,
              "#9c179e"
             ],
             [
              0.4444444444444444,
              "#bd3786"
             ],
             [
              0.5555555555555556,
              "#d8576b"
             ],
             [
              0.6666666666666666,
              "#ed7953"
             ],
             [
              0.7777777777777778,
              "#fb9f3a"
             ],
             [
              0.8888888888888888,
              "#fdca26"
             ],
             [
              1,
              "#f0f921"
             ]
            ],
            "type": "histogram2dcontour"
           }
          ],
          "mesh3d": [
           {
            "colorbar": {
             "outlinewidth": 0,
             "ticks": ""
            },
            "type": "mesh3d"
           }
          ],
          "parcoords": [
           {
            "line": {
             "colorbar": {
              "outlinewidth": 0,
              "ticks": ""
             }
            },
            "type": "parcoords"
           }
          ],
          "pie": [
           {
            "automargin": true,
            "type": "pie"
           }
          ],
          "scatter": [
           {
            "marker": {
             "colorbar": {
              "outlinewidth": 0,
              "ticks": ""
             }
            },
            "type": "scatter"
           }
          ],
          "scatter3d": [
           {
            "line": {
             "colorbar": {
              "outlinewidth": 0,
              "ticks": ""
             }
            },
            "marker": {
             "colorbar": {
              "outlinewidth": 0,
              "ticks": ""
             }
            },
            "type": "scatter3d"
           }
          ],
          "scattercarpet": [
           {
            "marker": {
             "colorbar": {
              "outlinewidth": 0,
              "ticks": ""
             }
            },
            "type": "scattercarpet"
           }
          ],
          "scattergeo": [
           {
            "marker": {
             "colorbar": {
              "outlinewidth": 0,
              "ticks": ""
             }
            },
            "type": "scattergeo"
           }
          ],
          "scattergl": [
           {
            "marker": {
             "colorbar": {
              "outlinewidth": 0,
              "ticks": ""
             }
            },
            "type": "scattergl"
           }
          ],
          "scattermapbox": [
           {
            "marker": {
             "colorbar": {
              "outlinewidth": 0,
              "ticks": ""
             }
            },
            "type": "scattermapbox"
           }
          ],
          "scatterpolar": [
           {
            "marker": {
             "colorbar": {
              "outlinewidth": 0,
              "ticks": ""
             }
            },
            "type": "scatterpolar"
           }
          ],
          "scatterpolargl": [
           {
            "marker": {
             "colorbar": {
              "outlinewidth": 0,
              "ticks": ""
             }
            },
            "type": "scatterpolargl"
           }
          ],
          "scatterternary": [
           {
            "marker": {
             "colorbar": {
              "outlinewidth": 0,
              "ticks": ""
             }
            },
            "type": "scatterternary"
           }
          ],
          "surface": [
           {
            "colorbar": {
             "outlinewidth": 0,
             "ticks": ""
            },
            "colorscale": [
             [
              0,
              "#0d0887"
             ],
             [
              0.1111111111111111,
              "#46039f"
             ],
             [
              0.2222222222222222,
              "#7201a8"
             ],
             [
              0.3333333333333333,
              "#9c179e"
             ],
             [
              0.4444444444444444,
              "#bd3786"
             ],
             [
              0.5555555555555556,
              "#d8576b"
             ],
             [
              0.6666666666666666,
              "#ed7953"
             ],
             [
              0.7777777777777778,
              "#fb9f3a"
             ],
             [
              0.8888888888888888,
              "#fdca26"
             ],
             [
              1,
              "#f0f921"
             ]
            ],
            "type": "surface"
           }
          ],
          "table": [
           {
            "cells": {
             "fill": {
              "color": "#EBF0F8"
             },
             "line": {
              "color": "white"
             }
            },
            "header": {
             "fill": {
              "color": "#C8D4E3"
             },
             "line": {
              "color": "white"
             }
            },
            "type": "table"
           }
          ]
         },
         "layout": {
          "annotationdefaults": {
           "arrowcolor": "#2a3f5f",
           "arrowhead": 0,
           "arrowwidth": 1
          },
          "autotypenumbers": "strict",
          "coloraxis": {
           "colorbar": {
            "outlinewidth": 0,
            "ticks": ""
           }
          },
          "colorscale": {
           "diverging": [
            [
             0,
             "#8e0152"
            ],
            [
             0.1,
             "#c51b7d"
            ],
            [
             0.2,
             "#de77ae"
            ],
            [
             0.3,
             "#f1b6da"
            ],
            [
             0.4,
             "#fde0ef"
            ],
            [
             0.5,
             "#f7f7f7"
            ],
            [
             0.6,
             "#e6f5d0"
            ],
            [
             0.7,
             "#b8e186"
            ],
            [
             0.8,
             "#7fbc41"
            ],
            [
             0.9,
             "#4d9221"
            ],
            [
             1,
             "#276419"
            ]
           ],
           "sequential": [
            [
             0,
             "#0d0887"
            ],
            [
             0.1111111111111111,
             "#46039f"
            ],
            [
             0.2222222222222222,
             "#7201a8"
            ],
            [
             0.3333333333333333,
             "#9c179e"
            ],
            [
             0.4444444444444444,
             "#bd3786"
            ],
            [
             0.5555555555555556,
             "#d8576b"
            ],
            [
             0.6666666666666666,
             "#ed7953"
            ],
            [
             0.7777777777777778,
             "#fb9f3a"
            ],
            [
             0.8888888888888888,
             "#fdca26"
            ],
            [
             1,
             "#f0f921"
            ]
           ],
           "sequentialminus": [
            [
             0,
             "#0d0887"
            ],
            [
             0.1111111111111111,
             "#46039f"
            ],
            [
             0.2222222222222222,
             "#7201a8"
            ],
            [
             0.3333333333333333,
             "#9c179e"
            ],
            [
             0.4444444444444444,
             "#bd3786"
            ],
            [
             0.5555555555555556,
             "#d8576b"
            ],
            [
             0.6666666666666666,
             "#ed7953"
            ],
            [
             0.7777777777777778,
             "#fb9f3a"
            ],
            [
             0.8888888888888888,
             "#fdca26"
            ],
            [
             1,
             "#f0f921"
            ]
           ]
          },
          "colorway": [
           "#636efa",
           "#EF553B",
           "#00cc96",
           "#ab63fa",
           "#FFA15A",
           "#19d3f3",
           "#FF6692",
           "#B6E880",
           "#FF97FF",
           "#FECB52"
          ],
          "font": {
           "color": "#2a3f5f"
          },
          "geo": {
           "bgcolor": "white",
           "lakecolor": "white",
           "landcolor": "#E5ECF6",
           "showlakes": true,
           "showland": true,
           "subunitcolor": "white"
          },
          "hoverlabel": {
           "align": "left"
          },
          "hovermode": "closest",
          "mapbox": {
           "style": "light"
          },
          "paper_bgcolor": "white",
          "plot_bgcolor": "#E5ECF6",
          "polar": {
           "angularaxis": {
            "gridcolor": "white",
            "linecolor": "white",
            "ticks": ""
           },
           "bgcolor": "#E5ECF6",
           "radialaxis": {
            "gridcolor": "white",
            "linecolor": "white",
            "ticks": ""
           }
          },
          "scene": {
           "xaxis": {
            "backgroundcolor": "#E5ECF6",
            "gridcolor": "white",
            "gridwidth": 2,
            "linecolor": "white",
            "showbackground": true,
            "ticks": "",
            "zerolinecolor": "white"
           },
           "yaxis": {
            "backgroundcolor": "#E5ECF6",
            "gridcolor": "white",
            "gridwidth": 2,
            "linecolor": "white",
            "showbackground": true,
            "ticks": "",
            "zerolinecolor": "white"
           },
           "zaxis": {
            "backgroundcolor": "#E5ECF6",
            "gridcolor": "white",
            "gridwidth": 2,
            "linecolor": "white",
            "showbackground": true,
            "ticks": "",
            "zerolinecolor": "white"
           }
          },
          "shapedefaults": {
           "line": {
            "color": "#2a3f5f"
           }
          },
          "ternary": {
           "aaxis": {
            "gridcolor": "white",
            "linecolor": "white",
            "ticks": ""
           },
           "baxis": {
            "gridcolor": "white",
            "linecolor": "white",
            "ticks": ""
           },
           "bgcolor": "#E5ECF6",
           "caxis": {
            "gridcolor": "white",
            "linecolor": "white",
            "ticks": ""
           }
          },
          "title": {
           "x": 0.05
          },
          "xaxis": {
           "automargin": true,
           "gridcolor": "white",
           "linecolor": "white",
           "ticks": "",
           "title": {
            "standoff": 15
           },
           "zerolinecolor": "white",
           "zerolinewidth": 2
          },
          "yaxis": {
           "automargin": true,
           "gridcolor": "white",
           "linecolor": "white",
           "ticks": "",
           "title": {
            "standoff": 15
           },
           "zerolinecolor": "white",
           "zerolinewidth": 2
          }
         }
        },
        "title": {
         "text": "Product Sentiment"
        },
        "xaxis": {
         "anchor": "y",
         "domain": [
          0,
          1
         ],
         "title": {
          "text": "Sentiment"
         }
        },
        "yaxis": {
         "anchor": "x",
         "domain": [
          0,
          1
         ],
         "title": {
          "text": "count"
         }
        }
       }
      },
      "text/html": [
       "<div>                            <div id=\"f02086d6-2998-47ca-8a7e-9e1256e07363\" class=\"plotly-graph-div\" style=\"height:525px; width:100%;\"></div>            <script type=\"text/javascript\">                require([\"plotly\"], function(Plotly) {                    window.PLOTLYENV=window.PLOTLYENV || {};                                    if (document.getElementById(\"f02086d6-2998-47ca-8a7e-9e1256e07363\")) {                    Plotly.newPlot(                        \"f02086d6-2998-47ca-8a7e-9e1256e07363\",                        [{\"alignmentgroup\":\"True\",\"bingroup\":\"x\",\"hovertemplate\":\"Sentiment=%{x}<br>count=%{y}<extra></extra>\",\"legendgroup\":\"\",\"marker\":{\"color\":\"indianred\",\"line\":{\"color\":\"rgb(8,48,107)\",\"width\":1.5},\"pattern\":{\"shape\":\"\"}},\"name\":\"\",\"offsetgroup\":\"\",\"orientation\":\"v\",\"showlegend\":false,\"type\":\"histogram\",\"x\":[\"negative\",0,\"negative\",\"negative\",\"negative\",\"negative\",\"negative\",\"positive\",3,3,\"negative\",\"negative\",0,\"negative\",0,0,\"positive\",0,\"negative\",\"positive\",0,0,\"negative\",\"negative\",\"positive\",3,\"negative\",\"negative\",0,\"positive\",0,3,\"negative\",\"negative\",\"negative\",0,\"positive\",3,0,\"positive\",0,3,\"negative\",\"negative\",0,\"positive\",\"positive\",\"negative\",\"positive\",3,0,\"positive\",\"negative\",\"negative\",\"negative\",3,3,\"positive\",\"negative\",0,0,0,0,0,0,\"negative\",3,3,\"positive\",\"negative\",\"positive\",\"positive\",0,\"negative\",0,0,0,\"negative\",\"negative\",\"negative\",3,\"negative\",\"positive\",0,0,0,3,3,\"positive\",0,\"positive\",\"negative\",\"negative\",0,\"positive\",3,0,3,0,\"positive\",3,\"negative\",\"positive\",\"negative\",\"negative\",3,\"negative\",\"positive\",\"positive\",\"positive\",\"negative\",\"negative\",\"negative\",\"positive\",\"negative\",3,\"negative\",\"negative\",\"negative\",\"negative\",3,\"negative\",\"negative\",\"positive\",\"negative\",\"negative\",\"positive\",\"negative\",\"negative\",3,3,\"negative\",\"negative\",\"positive\",0,\"negative\",0,3,\"positive\",\"negative\",0,0,0,\"negative\",\"positive\",\"negative\",0,\"negative\",\"positive\",\"negative\",\"negative\",\"negative\",0,0,\"positive\",\"positive\",3,0,\"negative\",3,0,\"negative\",\"positive\",0,\"negative\",\"positive\",\"positive\",\"negative\",\"negative\",0,\"positive\",0,\"negative\",\"positive\",\"positive\",\"negative\",3,\"positive\",0,\"positive\",\"positive\",3,0,0,0,0,0,\"negative\",\"positive\",3,\"positive\",0,0,\"negative\",\"negative\",0,\"positive\",0,\"negative\",\"positive\",\"negative\",0,\"negative\",\"positive\",\"positive\",\"positive\",0,3,\"positive\",0,\"negative\",\"positive\",\"positive\",\"negative\",0,\"negative\",\"positive\",3,0,\"positive\",\"positive\",0,\"positive\",\"negative\",\"negative\",3,\"negative\",3,\"negative\",\"negative\",0,\"negative\",\"positive\",\"positive\",\"negative\",\"negative\",\"negative\",\"positive\",3,3,\"positive\",\"positive\",\"negative\",\"positive\",\"positive\",\"positive\",\"negative\",\"positive\",\"negative\",\"positive\",\"negative\",\"positive\",\"negative\",\"negative\",\"positive\",0,\"negative\",\"negative\",0,0,\"negative\",0,0,\"negative\",3,\"negative\",\"negative\",0,\"positive\",\"negative\",3,\"negative\",\"positive\",\"positive\",\"negative\",3,3,\"negative\",\"negative\",\"negative\",0,\"negative\",0,\"positive\",3,\"negative\",0,\"negative\",\"positive\",3,0,\"positive\",0,\"negative\",\"negative\",\"negative\",\"negative\",\"negative\",3,\"negative\",\"negative\",\"positive\",\"positive\",0,0,0,\"positive\",\"negative\",\"negative\",0,0,\"negative\",0,0,\"negative\",\"negative\",0,0,0,0,0,\"positive\",0,0,\"positive\",\"positive\",0,3,\"positive\",3,3,\"positive\",\"negative\",\"negative\",3,3,\"positive\",\"positive\",0,0,3,\"positive\",0,3,\"positive\",0,3,\"negative\",0,0,0,3,\"negative\",0,0,0,0,0,0,0,0,0,0,\"negative\",0,\"negative\",0,0,0,\"negative\",3,0,0,\"negative\",0,3,0,\"positive\",\"negative\",\"negative\",\"negative\",\"negative\",3,3,\"negative\",\"negative\",\"positive\",0,\"positive\",0,\"negative\",0,\"positive\",\"negative\",0,3,0,\"negative\",0,0,0,\"negative\",0,\"positive\",\"positive\",3,0,\"negative\",\"positive\",3,3,3,\"negative\",\"negative\",\"negative\",\"negative\",0,\"negative\",\"positive\",\"positive\",0,\"negative\",0,0,\"positive\",0,0,\"negative\",0,0,3,\"positive\",0,\"positive\",\"positive\",\"negative\",0,\"negative\",3,0,\"negative\",\"positive\",0,\"negative\",0,0,\"positive\",\"positive\",\"positive\",0,3,0,\"positive\",0,0,\"negative\",0,\"negative\",\"negative\",0,\"positive\",3,0,0,0,0,0,\"positive\",0,\"negative\",0,\"negative\",0,3,\"negative\",\"negative\",0,\"negative\",\"positive\",0,0,\"negative\",3,\"positive\",0,\"positive\",0,3,\"positive\",0,\"positive\",0,\"negative\",0,0,0,0,0,0,\"negative\",0,\"positive\",\"negative\",\"negative\",\"positive\",0,\"positive\",\"negative\",\"negative\",0,\"negative\",\"negative\",0,0,\"negative\",\"positive\",\"positive\",\"positive\",\"positive\",0,0,\"positive\",\"negative\",\"positive\",0,\"negative\",\"positive\",\"positive\",0,0,0,\"negative\",0,\"positive\",\"negative\",0,0,0,\"negative\",\"negative\",\"positive\",\"positive\",\"positive\",\"positive\",0,0,0,0,\"positive\",0,\"negative\",0,0,0,0,0,\"positive\",\"positive\",0,0,\"negative\",\"negative\",0,0,0,\"positive\",\"negative\",\"negative\",\"negative\",\"positive\",0,0,0,\"negative\",\"negative\",\"positive\",\"positive\",\"negative\",0,0,0,\"negative\",\"negative\",\"negative\",\"positive\",\"negative\",0,0,0,0,0,\"positive\",\"positive\",\"negative\",0,0,\"negative\",3,3,\"negative\",3,\"negative\",3,\"negative\",\"negative\",\"negative\",3,\"positive\",0,0,3,0,3,\"negative\",3,\"negative\",0,\"negative\",\"positive\",\"negative\",\"positive\",\"negative\",\"positive\",0,\"negative\",\"positive\",3,0,\"negative\",\"negative\",3,\"positive\",3,\"negative\",\"positive\",\"positive\",\"positive\",3,0,3,\"positive\",\"negative\",\"positive\",\"positive\",\"negative\",3,\"negative\",0,0,3,3,0,\"negative\",3,\"negative\",\"negative\",\"negative\",\"positive\",3,\"negative\",3,\"positive\",\"positive\",\"negative\",\"negative\",\"negative\",\"negative\",0,0,\"negative\",3,0,\"positive\",3,\"positive\",3,0,0,3,\"negative\",\"positive\",\"positive\",\"positive\",\"negative\",\"positive\",3,0,\"positive\",\"negative\",\"positive\",\"negative\",\"positive\",\"positive\",\"positive\",\"positive\",3,3,\"positive\",\"positive\",\"negative\",3,\"negative\",0,\"positive\",\"positive\",\"negative\",\"positive\",\"negative\",3,3,3,\"negative\",3,0,0,\"positive\",\"negative\",0,\"negative\",0,0,3,0,0,\"negative\",3,3,0,0,0,0,0,0,0,3,\"positive\",\"positive\",3,0,\"positive\",3,\"negative\",0,3,3,0,\"negative\",0,3,3,\"positive\",\"positive\",3,\"positive\",0,\"positive\",\"negative\",3,\"positive\",\"negative\",3,\"negative\",\"negative\",3,3,\"negative\",3,\"positive\",\"negative\",3,0,3,3,3,3,3,\"positive\",0,0,\"positive\",\"positive\",\"negative\",\"positive\",\"negative\",\"negative\",\"positive\",\"negative\",\"negative\",\"positive\",\"negative\",3,\"positive\",\"negative\",\"negative\",\"negative\",\"negative\",\"positive\",\"positive\",3,\"positive\",\"positive\",\"negative\",3,\"positive\",3,0,0,0,0,\"negative\",\"negative\",0,0,\"positive\",0,0,0,3,3,\"negative\",3,0,\"positive\",3,\"negative\",0,3,3,3,3,\"positive\",\"positive\",0,\"positive\",\"positive\",\"negative\",3,0,0,\"negative\",3,3,3,\"positive\",\"positive\",3,\"negative\",3,3,\"positive\",\"positive\",\"positive\",0,\"negative\",\"positive\",3,\"negative\",3,\"positive\",\"negative\",3,0,0,3,3,3,3,\"negative\",\"positive\",\"positive\",0,\"negative\",\"positive\",3,\"positive\",\"positive\",3,3,\"negative\",\"positive\",3,3,3,\"positive\",\"negative\",3,3,\"negative\",\"positive\",3,\"negative\",3,3,3,\"negative\",3,3,\"negative\",\"negative\",3,\"positive\",\"negative\",\"negative\",\"positive\",3,\"negative\",3,\"positive\",0,\"negative\",3,3,3,\"positive\",\"positive\",\"negative\",\"positive\",\"positive\",\"negative\",\"positive\",\"positive\",3,3,3,\"negative\",\"negative\",\"positive\",\"negative\",\"positive\",\"positive\",3,\"positive\",3,3,\"positive\",3,\"negative\",3,\"negative\",\"positive\",3,\"positive\",\"negative\",\"positive\",\"negative\",\"negative\",3,\"negative\",3,\"negative\",\"positive\",\"negative\",3,\"negative\",3,3,\"negative\",3,\"negative\",0,\"negative\",\"positive\",3,3,\"positive\",3,0,\"positive\",\"positive\",\"positive\",\"negative\",\"positive\",3,3,3,0,\"negative\",\"negative\",3,\"positive\",3,\"negative\",3,3,\"positive\",\"negative\",\"negative\",\"negative\",\"negative\",\"positive\",\"negative\",\"negative\",3,\"positive\",\"negative\",\"positive\",3,3,\"negative\",\"negative\",3,3,\"positive\",\"positive\",\"negative\",\"negative\",\"positive\",\"negative\",\"positive\",\"negative\",\"positive\",\"positive\",\"negative\",\"negative\",\"positive\",\"negative\",3,\"positive\",\"positive\",\"positive\",\"negative\",\"positive\",3,\"positive\",0,\"positive\",3,\"positive\",\"negative\",3,3,\"negative\",\"positive\",\"positive\",3,3,\"negative\",\"negative\",\"negative\",\"positive\",\"positive\",\"negative\",\"positive\",\"negative\",\"positive\",\"negative\",\"negative\",\"negative\",3,3,\"negative\",\"negative\",\"negative\",\"negative\",\"negative\",3,\"positive\",\"negative\",0,3,\"negative\",3,\"positive\",\"negative\",\"negative\",0,\"negative\",0,\"negative\",0,0,\"negative\",\"negative\",0,3,3,0],\"xaxis\":\"x\",\"yaxis\":\"y\"}],                        {\"barmode\":\"relative\",\"legend\":{\"tracegroupgap\":0},\"margin\":{\"t\":60},\"template\":{\"data\":{\"bar\":[{\"error_x\":{\"color\":\"#2a3f5f\"},\"error_y\":{\"color\":\"#2a3f5f\"},\"marker\":{\"line\":{\"color\":\"#E5ECF6\",\"width\":0.5},\"pattern\":{\"fillmode\":\"overlay\",\"size\":10,\"solidity\":0.2}},\"type\":\"bar\"}],\"barpolar\":[{\"marker\":{\"line\":{\"color\":\"#E5ECF6\",\"width\":0.5},\"pattern\":{\"fillmode\":\"overlay\",\"size\":10,\"solidity\":0.2}},\"type\":\"barpolar\"}],\"carpet\":[{\"aaxis\":{\"endlinecolor\":\"#2a3f5f\",\"gridcolor\":\"white\",\"linecolor\":\"white\",\"minorgridcolor\":\"white\",\"startlinecolor\":\"#2a3f5f\"},\"baxis\":{\"endlinecolor\":\"#2a3f5f\",\"gridcolor\":\"white\",\"linecolor\":\"white\",\"minorgridcolor\":\"white\",\"startlinecolor\":\"#2a3f5f\"},\"type\":\"carpet\"}],\"choropleth\":[{\"colorbar\":{\"outlinewidth\":0,\"ticks\":\"\"},\"type\":\"choropleth\"}],\"contour\":[{\"colorbar\":{\"outlinewidth\":0,\"ticks\":\"\"},\"colorscale\":[[0.0,\"#0d0887\"],[0.1111111111111111,\"#46039f\"],[0.2222222222222222,\"#7201a8\"],[0.3333333333333333,\"#9c179e\"],[0.4444444444444444,\"#bd3786\"],[0.5555555555555556,\"#d8576b\"],[0.6666666666666666,\"#ed7953\"],[0.7777777777777778,\"#fb9f3a\"],[0.8888888888888888,\"#fdca26\"],[1.0,\"#f0f921\"]],\"type\":\"contour\"}],\"contourcarpet\":[{\"colorbar\":{\"outlinewidth\":0,\"ticks\":\"\"},\"type\":\"contourcarpet\"}],\"heatmap\":[{\"colorbar\":{\"outlinewidth\":0,\"ticks\":\"\"},\"colorscale\":[[0.0,\"#0d0887\"],[0.1111111111111111,\"#46039f\"],[0.2222222222222222,\"#7201a8\"],[0.3333333333333333,\"#9c179e\"],[0.4444444444444444,\"#bd3786\"],[0.5555555555555556,\"#d8576b\"],[0.6666666666666666,\"#ed7953\"],[0.7777777777777778,\"#fb9f3a\"],[0.8888888888888888,\"#fdca26\"],[1.0,\"#f0f921\"]],\"type\":\"heatmap\"}],\"heatmapgl\":[{\"colorbar\":{\"outlinewidth\":0,\"ticks\":\"\"},\"colorscale\":[[0.0,\"#0d0887\"],[0.1111111111111111,\"#46039f\"],[0.2222222222222222,\"#7201a8\"],[0.3333333333333333,\"#9c179e\"],[0.4444444444444444,\"#bd3786\"],[0.5555555555555556,\"#d8576b\"],[0.6666666666666666,\"#ed7953\"],[0.7777777777777778,\"#fb9f3a\"],[0.8888888888888888,\"#fdca26\"],[1.0,\"#f0f921\"]],\"type\":\"heatmapgl\"}],\"histogram\":[{\"marker\":{\"pattern\":{\"fillmode\":\"overlay\",\"size\":10,\"solidity\":0.2}},\"type\":\"histogram\"}],\"histogram2d\":[{\"colorbar\":{\"outlinewidth\":0,\"ticks\":\"\"},\"colorscale\":[[0.0,\"#0d0887\"],[0.1111111111111111,\"#46039f\"],[0.2222222222222222,\"#7201a8\"],[0.3333333333333333,\"#9c179e\"],[0.4444444444444444,\"#bd3786\"],[0.5555555555555556,\"#d8576b\"],[0.6666666666666666,\"#ed7953\"],[0.7777777777777778,\"#fb9f3a\"],[0.8888888888888888,\"#fdca26\"],[1.0,\"#f0f921\"]],\"type\":\"histogram2d\"}],\"histogram2dcontour\":[{\"colorbar\":{\"outlinewidth\":0,\"ticks\":\"\"},\"colorscale\":[[0.0,\"#0d0887\"],[0.1111111111111111,\"#46039f\"],[0.2222222222222222,\"#7201a8\"],[0.3333333333333333,\"#9c179e\"],[0.4444444444444444,\"#bd3786\"],[0.5555555555555556,\"#d8576b\"],[0.6666666666666666,\"#ed7953\"],[0.7777777777777778,\"#fb9f3a\"],[0.8888888888888888,\"#fdca26\"],[1.0,\"#f0f921\"]],\"type\":\"histogram2dcontour\"}],\"mesh3d\":[{\"colorbar\":{\"outlinewidth\":0,\"ticks\":\"\"},\"type\":\"mesh3d\"}],\"parcoords\":[{\"line\":{\"colorbar\":{\"outlinewidth\":0,\"ticks\":\"\"}},\"type\":\"parcoords\"}],\"pie\":[{\"automargin\":true,\"type\":\"pie\"}],\"scatter\":[{\"marker\":{\"colorbar\":{\"outlinewidth\":0,\"ticks\":\"\"}},\"type\":\"scatter\"}],\"scatter3d\":[{\"line\":{\"colorbar\":{\"outlinewidth\":0,\"ticks\":\"\"}},\"marker\":{\"colorbar\":{\"outlinewidth\":0,\"ticks\":\"\"}},\"type\":\"scatter3d\"}],\"scattercarpet\":[{\"marker\":{\"colorbar\":{\"outlinewidth\":0,\"ticks\":\"\"}},\"type\":\"scattercarpet\"}],\"scattergeo\":[{\"marker\":{\"colorbar\":{\"outlinewidth\":0,\"ticks\":\"\"}},\"type\":\"scattergeo\"}],\"scattergl\":[{\"marker\":{\"colorbar\":{\"outlinewidth\":0,\"ticks\":\"\"}},\"type\":\"scattergl\"}],\"scattermapbox\":[{\"marker\":{\"colorbar\":{\"outlinewidth\":0,\"ticks\":\"\"}},\"type\":\"scattermapbox\"}],\"scatterpolar\":[{\"marker\":{\"colorbar\":{\"outlinewidth\":0,\"ticks\":\"\"}},\"type\":\"scatterpolar\"}],\"scatterpolargl\":[{\"marker\":{\"colorbar\":{\"outlinewidth\":0,\"ticks\":\"\"}},\"type\":\"scatterpolargl\"}],\"scatterternary\":[{\"marker\":{\"colorbar\":{\"outlinewidth\":0,\"ticks\":\"\"}},\"type\":\"scatterternary\"}],\"surface\":[{\"colorbar\":{\"outlinewidth\":0,\"ticks\":\"\"},\"colorscale\":[[0.0,\"#0d0887\"],[0.1111111111111111,\"#46039f\"],[0.2222222222222222,\"#7201a8\"],[0.3333333333333333,\"#9c179e\"],[0.4444444444444444,\"#bd3786\"],[0.5555555555555556,\"#d8576b\"],[0.6666666666666666,\"#ed7953\"],[0.7777777777777778,\"#fb9f3a\"],[0.8888888888888888,\"#fdca26\"],[1.0,\"#f0f921\"]],\"type\":\"surface\"}],\"table\":[{\"cells\":{\"fill\":{\"color\":\"#EBF0F8\"},\"line\":{\"color\":\"white\"}},\"header\":{\"fill\":{\"color\":\"#C8D4E3\"},\"line\":{\"color\":\"white\"}},\"type\":\"table\"}]},\"layout\":{\"annotationdefaults\":{\"arrowcolor\":\"#2a3f5f\",\"arrowhead\":0,\"arrowwidth\":1},\"autotypenumbers\":\"strict\",\"coloraxis\":{\"colorbar\":{\"outlinewidth\":0,\"ticks\":\"\"}},\"colorscale\":{\"diverging\":[[0,\"#8e0152\"],[0.1,\"#c51b7d\"],[0.2,\"#de77ae\"],[0.3,\"#f1b6da\"],[0.4,\"#fde0ef\"],[0.5,\"#f7f7f7\"],[0.6,\"#e6f5d0\"],[0.7,\"#b8e186\"],[0.8,\"#7fbc41\"],[0.9,\"#4d9221\"],[1,\"#276419\"]],\"sequential\":[[0.0,\"#0d0887\"],[0.1111111111111111,\"#46039f\"],[0.2222222222222222,\"#7201a8\"],[0.3333333333333333,\"#9c179e\"],[0.4444444444444444,\"#bd3786\"],[0.5555555555555556,\"#d8576b\"],[0.6666666666666666,\"#ed7953\"],[0.7777777777777778,\"#fb9f3a\"],[0.8888888888888888,\"#fdca26\"],[1.0,\"#f0f921\"]],\"sequentialminus\":[[0.0,\"#0d0887\"],[0.1111111111111111,\"#46039f\"],[0.2222222222222222,\"#7201a8\"],[0.3333333333333333,\"#9c179e\"],[0.4444444444444444,\"#bd3786\"],[0.5555555555555556,\"#d8576b\"],[0.6666666666666666,\"#ed7953\"],[0.7777777777777778,\"#fb9f3a\"],[0.8888888888888888,\"#fdca26\"],[1.0,\"#f0f921\"]]},\"colorway\":[\"#636efa\",\"#EF553B\",\"#00cc96\",\"#ab63fa\",\"#FFA15A\",\"#19d3f3\",\"#FF6692\",\"#B6E880\",\"#FF97FF\",\"#FECB52\"],\"font\":{\"color\":\"#2a3f5f\"},\"geo\":{\"bgcolor\":\"white\",\"lakecolor\":\"white\",\"landcolor\":\"#E5ECF6\",\"showlakes\":true,\"showland\":true,\"subunitcolor\":\"white\"},\"hoverlabel\":{\"align\":\"left\"},\"hovermode\":\"closest\",\"mapbox\":{\"style\":\"light\"},\"paper_bgcolor\":\"white\",\"plot_bgcolor\":\"#E5ECF6\",\"polar\":{\"angularaxis\":{\"gridcolor\":\"white\",\"linecolor\":\"white\",\"ticks\":\"\"},\"bgcolor\":\"#E5ECF6\",\"radialaxis\":{\"gridcolor\":\"white\",\"linecolor\":\"white\",\"ticks\":\"\"}},\"scene\":{\"xaxis\":{\"backgroundcolor\":\"#E5ECF6\",\"gridcolor\":\"white\",\"gridwidth\":2,\"linecolor\":\"white\",\"showbackground\":true,\"ticks\":\"\",\"zerolinecolor\":\"white\"},\"yaxis\":{\"backgroundcolor\":\"#E5ECF6\",\"gridcolor\":\"white\",\"gridwidth\":2,\"linecolor\":\"white\",\"showbackground\":true,\"ticks\":\"\",\"zerolinecolor\":\"white\"},\"zaxis\":{\"backgroundcolor\":\"#E5ECF6\",\"gridcolor\":\"white\",\"gridwidth\":2,\"linecolor\":\"white\",\"showbackground\":true,\"ticks\":\"\",\"zerolinecolor\":\"white\"}},\"shapedefaults\":{\"line\":{\"color\":\"#2a3f5f\"}},\"ternary\":{\"aaxis\":{\"gridcolor\":\"white\",\"linecolor\":\"white\",\"ticks\":\"\"},\"baxis\":{\"gridcolor\":\"white\",\"linecolor\":\"white\",\"ticks\":\"\"},\"bgcolor\":\"#E5ECF6\",\"caxis\":{\"gridcolor\":\"white\",\"linecolor\":\"white\",\"ticks\":\"\"}},\"title\":{\"x\":0.05},\"xaxis\":{\"automargin\":true,\"gridcolor\":\"white\",\"linecolor\":\"white\",\"ticks\":\"\",\"title\":{\"standoff\":15},\"zerolinecolor\":\"white\",\"zerolinewidth\":2},\"yaxis\":{\"automargin\":true,\"gridcolor\":\"white\",\"linecolor\":\"white\",\"ticks\":\"\",\"title\":{\"standoff\":15},\"zerolinecolor\":\"white\",\"zerolinewidth\":2}}},\"title\":{\"text\":\"Product Sentiment\"},\"xaxis\":{\"anchor\":\"y\",\"domain\":[0.0,1.0],\"title\":{\"text\":\"Sentiment\"}},\"yaxis\":{\"anchor\":\"x\",\"domain\":[0.0,1.0],\"title\":{\"text\":\"count\"}}},                        {\"responsive\": true}                    ).then(function(){\n",
       "                            \n",
       "var gd = document.getElementById('f02086d6-2998-47ca-8a7e-9e1256e07363');\n",
       "var x = new MutationObserver(function (mutations, observer) {{\n",
       "        var display = window.getComputedStyle(gd).display;\n",
       "        if (!display || display === 'none') {{\n",
       "            console.log([gd, 'removed!']);\n",
       "            Plotly.purge(gd);\n",
       "            observer.disconnect();\n",
       "        }}\n",
       "}});\n",
       "\n",
       "// Listen for the removal of the full notebook cells\n",
       "var notebookContainer = gd.closest('#notebook-container');\n",
       "if (notebookContainer) {{\n",
       "    x.observe(notebookContainer, {childList: true});\n",
       "}}\n",
       "\n",
       "// Listen for the clearing of the current output cell\n",
       "var outputEl = gd.closest('.output');\n",
       "if (outputEl) {{\n",
       "    x.observe(outputEl, {childList: true});\n",
       "}}\n",
       "\n",
       "                        })                };                });            </script>        </div>"
      ]
     },
     "metadata": {},
     "output_type": "display_data"
    }
   ],
   "source": [
    "\n",
    "fig = px.histogram(sentiment_df, x=\"Sentiment\")\n",
    "\n",
    "fig.update_traces(marker_color=\"indianred\",marker_line_color='rgb(8,48,107)',\n",
    "                  marker_line_width=1.5)\n",
    "fig.update_layout(title_text='Product Sentiment')\n",
    "fig.show()"
   ]
  },
  {
   "cell_type": "code",
   "execution_count": null,
   "metadata": {},
   "outputs": [],
   "source": []
  }
 ],
 "metadata": {
  "kernelspec": {
   "display_name": "Python 3",
   "language": "python",
   "name": "python3"
  },
  "language_info": {
   "codemirror_mode": {
    "name": "ipython",
    "version": 3
   },
   "file_extension": ".py",
   "mimetype": "text/x-python",
   "name": "python",
   "nbconvert_exporter": "python",
   "pygments_lexer": "ipython3",
   "version": "3.8.5"
  }
 },
 "nbformat": 4,
 "nbformat_minor": 4
}
